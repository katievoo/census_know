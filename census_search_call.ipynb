{
 "cells": [
  {
   "cell_type": "code",
   "execution_count": 2,
   "metadata": {},
   "outputs": [],
   "source": [
    "import json\n",
    "import requests\n",
    "import numpy as np"
   ]
  },
  {
   "cell_type": "code",
   "execution_count": 3,
   "metadata": {},
   "outputs": [],
   "source": [
    "myAPI = '90341a28f02794c77f6e3abb153a4952a0bb480b'"
   ]
  },
  {
   "cell_type": "code",
   "execution_count": 71,
   "metadata": {},
   "outputs": [],
   "source": [
    "#search for DETAIL variables\n",
    "\n",
    "#load variables: \n",
    "\n",
    "url = \"https://api.census.gov/data/2017/acs/acs5/variables.json\"\n",
    "resp = requests.request('GET', url)\n",
    "aff1y = json.loads(resp.text)\n",
    "\n",
    "affkeys = np.array(list(aff1y['variables'].keys()))"
   ]
  },
  {
   "cell_type": "code",
   "execution_count": 72,
   "metadata": {},
   "outputs": [
    {
     "data": {
      "text/plain": [
       "[('B28005_012E',\n",
       "  'Estimate!!Total!!18 to 64 years!!Has a computer!!Without an Internet subscription'),\n",
       " ('B28005_011E',\n",
       "  'Estimate!!Total!!18 to 64 years!!Has a computer!!With a broadband Internet subscription'),\n",
       " ('B28005_010E',\n",
       "  'Estimate!!Total!!18 to 64 years!!Has a computer!!With dial-up Internet subscription alone'),\n",
       " ('B28005_016E',\n",
       "  'Estimate!!Total!!65 years and over!!Has a computer!!With dial-up Internet subscription alone'),\n",
       " ('B28005_015E', 'Estimate!!Total!!65 years and over!!Has a computer'),\n",
       " ('B28005_014E', 'Estimate!!Total!!65 years and over'),\n",
       " ('B28005_013E', 'Estimate!!Total!!18 to 64 years!!No computer'),\n",
       " ('B28005_018E',\n",
       "  'Estimate!!Total!!65 years and over!!Has a computer!!Without an Internet subscription'),\n",
       " ('B28005_019E', 'Estimate!!Total!!65 years and over!!No computer'),\n",
       " ('B28005_017E',\n",
       "  'Estimate!!Total!!65 years and over!!Has a computer!!With a broadband Internet subscription'),\n",
       " ('B28005_004E',\n",
       "  'Estimate!!Total!!Under 18 years!!Has a computer!!With dial-up Internet subscription alone'),\n",
       " ('B28005_003E', 'Estimate!!Total!!Under 18 years!!Has a computer'),\n",
       " ('B28005_002E', 'Estimate!!Total!!Under 18 years'),\n",
       " ('B28005_001E', 'Estimate!!Total'),\n",
       " ('B28005_009E', 'Estimate!!Total!!18 to 64 years!!Has a computer'),\n",
       " ('B28005_007E', 'Estimate!!Total!!Under 18 years!!No computer'),\n",
       " ('B28005_008E', 'Estimate!!Total!!18 to 64 years'),\n",
       " ('B28005_006E',\n",
       "  'Estimate!!Total!!Under 18 years!!Has a computer!!Without an Internet subscription'),\n",
       " ('B28005_005E',\n",
       "  'Estimate!!Total!!Under 18 years!!Has a computer!!With a broadband Internet subscription')]"
      ]
     },
     "execution_count": 72,
     "metadata": {},
     "output_type": "execute_result"
    }
   ],
   "source": [
    "#search by table key\n",
    "\n",
    "[(k, aff1y['variables'][k]['label'])  for k in affkeys if k.startswith ('B28005') ]"
   ]
  },
  {
   "cell_type": "code",
   "execution_count": 59,
   "metadata": {},
   "outputs": [
    {
     "data": {
      "text/plain": [
       "[('B25048_002E', 'Estimate!!Total!!Complete plumbing facilities'),\n",
       " ('B25048_003E', 'Estimate!!Total!!Lacking complete plumbing facilities'),\n",
       " ('B25047_003E', 'Estimate!!Total!!Lacking complete plumbing facilities'),\n",
       " ('B25047_002E', 'Estimate!!Total!!Complete plumbing facilities'),\n",
       " ('B25016_016E',\n",
       "  'Estimate!!Total!!Renter occupied!!Lacking complete plumbing facilities'),\n",
       " ('B25016_015E',\n",
       "  'Estimate!!Total!!Renter occupied!!Complete plumbing facilities!!1.51 or more occupants per room'),\n",
       " ('B25016_014E',\n",
       "  'Estimate!!Total!!Renter occupied!!Complete plumbing facilities!!1.01 to 1.50 occupants per room'),\n",
       " ('B25016_018E',\n",
       "  'Estimate!!Total!!Renter occupied!!Lacking complete plumbing facilities!!1.01 to 1.50 occupants per room'),\n",
       " ('B25016_017E',\n",
       "  'Estimate!!Total!!Renter occupied!!Lacking complete plumbing facilities!!1.00 or less occupants per room'),\n",
       " ('B25016_019E',\n",
       "  'Estimate!!Total!!Renter occupied!!Lacking complete plumbing facilities!!1.51 or more occupants per room'),\n",
       " ('B25016_010E',\n",
       "  'Estimate!!Total!!Owner occupied!!Lacking complete plumbing facilities!!1.51 or more occupants per room'),\n",
       " ('B25016_013E',\n",
       "  'Estimate!!Total!!Renter occupied!!Complete plumbing facilities!!1.00 or less occupants per room'),\n",
       " ('B25016_012E',\n",
       "  'Estimate!!Total!!Renter occupied!!Complete plumbing facilities'),\n",
       " ('B25016_003E',\n",
       "  'Estimate!!Total!!Owner occupied!!Complete plumbing facilities'),\n",
       " ('B25016_006E',\n",
       "  'Estimate!!Total!!Owner occupied!!Complete plumbing facilities!!1.51 or more occupants per room'),\n",
       " ('B25016_005E',\n",
       "  'Estimate!!Total!!Owner occupied!!Complete plumbing facilities!!1.01 to 1.50 occupants per room'),\n",
       " ('B25016_004E',\n",
       "  'Estimate!!Total!!Owner occupied!!Complete plumbing facilities!!1.00 or less occupants per room'),\n",
       " ('B25016_008E',\n",
       "  'Estimate!!Total!!Owner occupied!!Lacking complete plumbing facilities!!1.00 or less occupants per room'),\n",
       " ('B25016_007E',\n",
       "  'Estimate!!Total!!Owner occupied!!Lacking complete plumbing facilities'),\n",
       " ('B25016_009E',\n",
       "  'Estimate!!Total!!Owner occupied!!Lacking complete plumbing facilities!!1.01 to 1.50 occupants per room'),\n",
       " ('B25050_004E',\n",
       "  'Estimate!!Total!!Complete plumbing facilities!!1.00 or less occupants per room!!Built 1950 or later'),\n",
       " ('B25050_005E',\n",
       "  'Estimate!!Total!!Complete plumbing facilities!!1.00 or less occupants per room!!Built 1940 to 1949'),\n",
       " ('B25050_006E',\n",
       "  'Estimate!!Total!!Complete plumbing facilities!!1.00 or less occupants per room!!Built 1939 or earlier'),\n",
       " ('B25050_007E',\n",
       "  'Estimate!!Total!!Complete plumbing facilities!!1.01 or more occupants per room'),\n",
       " ('B25050_002E', 'Estimate!!Total!!Complete plumbing facilities'),\n",
       " ('B25050_003E',\n",
       "  'Estimate!!Total!!Complete plumbing facilities!!1.00 or less occupants per room'),\n",
       " ('B25050_008E',\n",
       "  'Estimate!!Total!!Complete plumbing facilities!!1.01 or more occupants per room!!Built 1950 or later'),\n",
       " ('B25050_009E',\n",
       "  'Estimate!!Total!!Complete plumbing facilities!!1.01 or more occupants per room!!Built 1940 to 1949'),\n",
       " ('B25050_010E',\n",
       "  'Estimate!!Total!!Complete plumbing facilities!!1.01 or more occupants per room!!Built 1939 or earlier'),\n",
       " ('B25050_011E', 'Estimate!!Total!!Lacking complete plumbing facilities'),\n",
       " ('B25050_016E',\n",
       "  'Estimate!!Total!!Lacking complete plumbing facilities!!1.01 or more occupants per room'),\n",
       " ('B25050_017E',\n",
       "  'Estimate!!Total!!Lacking complete plumbing facilities!!1.01 or more occupants per room!!Built 1950 or later'),\n",
       " ('B25050_018E',\n",
       "  'Estimate!!Total!!Lacking complete plumbing facilities!!1.01 or more occupants per room!!Built 1940 to 1949'),\n",
       " ('B25050_019E',\n",
       "  'Estimate!!Total!!Lacking complete plumbing facilities!!1.01 or more occupants per room!!Built 1939 or earlier'),\n",
       " ('B25050_012E',\n",
       "  'Estimate!!Total!!Lacking complete plumbing facilities!!1.00 or less occupants per room'),\n",
       " ('B25050_013E',\n",
       "  'Estimate!!Total!!Lacking complete plumbing facilities!!1.00 or less occupants per room!!Built 1950 or later'),\n",
       " ('B25050_014E',\n",
       "  'Estimate!!Total!!Lacking complete plumbing facilities!!1.00 or less occupants per room!!Built 1940 to 1949'),\n",
       " ('B25050_015E',\n",
       "  'Estimate!!Total!!Lacking complete plumbing facilities!!1.00 or less occupants per room!!Built 1939 or earlier'),\n",
       " ('B25049_006E',\n",
       "  'Estimate!!Total!!Renter occupied!!Complete plumbing facilities'),\n",
       " ('B25049_007E',\n",
       "  'Estimate!!Total!!Renter occupied!!Lacking plumbing facilities'),\n",
       " ('B25049_003E',\n",
       "  'Estimate!!Total!!Owner occupied!!Complete plumbing facilities'),\n",
       " ('B25049_004E',\n",
       "  'Estimate!!Total!!Owner occupied!!Lacking plumbing facilities')]"
      ]
     },
     "execution_count": 59,
     "metadata": {},
     "output_type": "execute_result"
    }
   ],
   "source": [
    "#search by word/string in label \n",
    "\n",
    "[(k, aff1y['variables'][k]['label'])  for k in affkeys if \"plumbing\" in aff1y['variables'][k]['label']]"
   ]
  },
  {
   "cell_type": "code",
   "execution_count": 38,
   "metadata": {},
   "outputs": [],
   "source": [
    "error_list = ['S1701_C03_001',\n",
    " 'S0801_C01_001',\n",
    " 'S0802_C01_040',\n",
    " 'S1810_C01_060',\n",
    " 'S1810_C02_029',\n",
    " 'S1810_C03_018']"
   ]
  },
  {
   "cell_type": "code",
   "execution_count": 39,
   "metadata": {
    "scrolled": true
   },
   "outputs": [
    {
     "name": "stdout",
     "output_type": "stream",
     "text": [
      "[('S1701_C03_001E', 'Estimate!!Percent below poverty level!!Population for whom poverty status is determined')]\n",
      "[('S0801_C01_001E', 'Estimate!!Total!!Workers 16 years and over')]\n",
      "[('S0802_C01_040E', 'Estimate!!Total!!POVERTY STATUS IN THE PAST 12 MONTHS!!Workers 16 years and over for whom poverty status is determined!!100 to 149 percent of the poverty level')]\n",
      "[('S1810_C01_060E', 'Estimate!!Total!!Subject!!DISABILITY TYPE BY DETAILED AGE!!With a self-care difficulty!!Population 65 years and over')]\n",
      "[('S1810_C02_029E', 'Estimate!!With a disability!!Subject!!DISABILITY TYPE BY DETAILED AGE!!With a vision difficulty')]\n",
      "[('S1810_C03_018E', 'Estimate!!Percent with a disability!!Subject!!AGE!!75 years and over')]\n"
     ]
    }
   ],
   "source": [
    "#search for SUBJECT variables\n",
    "url = \"https://api.census.gov/data/2017/acs/acs5/subject/variables.json\"\n",
    "resp = requests.request('GET', url)\n",
    "aff1y = json.loads(resp.text)\n",
    "\n",
    "affkeys = np.array(list(aff1y['variables'].keys()))\n",
    "\n",
    "#for i in listv: \n",
    "for i in error_list: \n",
    "    print([(k, aff1y['variables'][k]['label'])  for k in affkeys if k.startswith (i) ])"
   ]
  },
  {
   "cell_type": "code",
   "execution_count": 33,
   "metadata": {
    "scrolled": false
   },
   "outputs": [
    {
     "data": {
      "text/plain": [
       "[('S2702PR_C02_001E',\n",
       "  'Estimate!!Total Uninsured!!Subject!!Total civilian noninstitutionalized population'),\n",
       " ('S1810_C02_001E',\n",
       "  'Estimate!!With a disability!!Subject!!Total civilian noninstitutionalized population'),\n",
       " ('S2702_C02_001E',\n",
       "  'Estimate!!Total Uninsured!!Subject!!Total civilian noninstitutionalized population'),\n",
       " ('S2702_C01_001E',\n",
       "  'Estimate!!Total!!Subject!!Total civilian noninstitutionalized population'),\n",
       " ('S1810_C01_001E',\n",
       "  'Estimate!!Total!!Subject!!Total civilian noninstitutionalized population'),\n",
       " ('S2702PR_C01_001E',\n",
       "  'Estimate!!Total!!Subject!!Total civilian noninstitutionalized population'),\n",
       " ('S1810_C03_001E',\n",
       "  'Estimate!!Percent with a disability!!Subject!!Total civilian noninstitutionalized population')]"
      ]
     },
     "execution_count": 33,
     "metadata": {},
     "output_type": "execute_result"
    }
   ],
   "source": [
    "#matching = [s for s in some_list if \"abc\" in s]\n",
    "\n",
    "[(k, aff1y['variables'][k]['label'])  for k in affkeys if \"Total civilian noninstitutionalized population\" in aff1y['variables'][k]['label']]"
   ]
  },
  {
   "cell_type": "code",
   "execution_count": null,
   "metadata": {},
   "outputs": [],
   "source": [
    "##pull data for \n",
    "##profile tables\n",
    "#zipcode syntax\n",
    "\n",
    "variable1 = 'code'\n",
    "variable2 = 'code'\n",
    "year = 'year'\n",
    "\n",
    "##profile tables\n",
    "#profile syntax examples: https://api.census.gov/data/2017/acs/acs5/profile/examples.html\n",
    "url = \"https://api.census.gov/data/\" +  year + \"/acs/acs5/profile?get=\" + variable1 + \\\n",
    "          ',' + variable2 +  \",NAME&for=zip%20code%20tabulation%20area:*&key=\" + myAPI\n",
    "resp = requests.request('GET', url).content\n",
    "profile_data = pd.read_csv(io.StringIO(resp.decode('utf-8').replace('[','').replace(']','')))\n",
    "#profile_data = profile_data.drop(['Unnamed: 8','NAME'], axis=1)\n",
    "#profile_data = profile_data.rename(columns={unemploy:'unemployment_rate'+year})\n",
    "\n",
    "profile_data.tail()"
   ]
  },
  {
   "cell_type": "code",
   "execution_count": null,
   "metadata": {},
   "outputs": [],
   "source": [
    "#subject tables \n",
    "##subject tables \n",
    "\n",
    "total_households =  'S1101_C01_001E'\n",
    "total_female_head_children = 'S1101_C04_010E'\n",
    "total_w_children = 'S1101_C01_010E'\n",
    "household_size_avg = 'S1101_C01_002E'\n",
    "family_size_avg = 'S1101_C01_004E'\n",
    "total_older_on_own = 'S1101_C01_013E'\n",
    "total_renters = 'S1101_C01_020E'\n",
    "\n",
    "total_lang_speakers = 'S1601_C01_001E'\n",
    "total_home_lang_other = 'S1601_C01_003E'\n",
    "perc_english_learners = 'S1601_C06_001E'\n"
   ]
  },
  {
   "cell_type": "code",
   "execution_count": null,
   "metadata": {},
   "outputs": [],
   "source": [
    "#subject tables\n",
    "\n",
    "\n",
    "url = \"https://api.census.gov/data/\" + '2017' + \"/acs/acs5/subject?get=NAME,\" +\\\n",
    "total_households + ',' + \\\n",
    "total_female_head_children + ',' + \\\n",
    "total_w_children  + ',' + \\\n",
    "household_size_avg + ',' + \\\n",
    "family_size_avg + ',' + \\\n",
    "total_older_on_own + ',' + \\\n",
    "total_renters + ',' + \\\n",
    "total_lang_speakers + ',' + \\\n",
    "total_home_lang_other + ',' + \\\n",
    "perc_english_learners + \"&for=zip%20code%20tabulation%20area:*&key=\" + myAPI\n",
    "\n",
    "resp = requests.request('GET', url).content\n",
    "subject_data = pd.read_csv(io.StringIO(resp.decode('utf-8').replace('[','').replace(']','')))\n",
    "subject_data = subject_data.drop(['Unnamed: 12','NAME'], axis=1)\n",
    "subject_data = subject_data.rename(columns={total_households : 'total_households',\n",
    "                            total_female_head_children : 'tot_fem_hoh_ch', total_w_children :'tot_h_w_chn',\n",
    "                            household_size_avg : 'avg_h_size' , family_size_avg : 'avg_fam_size' ,\n",
    "                            total_older_on_own : 'tot_h_older_only', total_renters : 'tot_renters',\n",
    "                            total_lang_speakers :'tot_lang_speakers', total_home_lang_other : 'tot_h_lang_other',\n",
    "                            perc_english_learners : \"perc_eng_learners\", 'zip code tabulation area':'zip'})"
   ]
  },
  {
   "cell_type": "code",
   "execution_count": null,
   "metadata": {},
   "outputs": [],
   "source": [
    "#detail tables\n",
    "\n",
    "url = \"https://api.census.gov/data/\" + '2017' + \"/acs/acs5/?get=NAME,\" +\\\n",
    "total_born + ',' + \\\n",
    "total_foreign_born+ ',' + \\\n",
    "total_new_im + ',' + \\\n",
    "white  + ',' + \\\n",
    "total_pop + ',' + \\\n",
    "total_im + \"&for=zip%20code%20tabulation%20area:*&key=\" + myAPI\n",
    "\n",
    "resp = requests.request('GET', url).content\n",
    "detail_data = pd.read_csv(io.StringIO(resp.decode('utf-8').replace('[','').replace(']','')))\n",
    "detail_data = detail_data.drop(['Unnamed: 8','NAME'], axis=1)\n",
    "detail_data = detail_data.rename(columns={total_born : 'total_born',total_foreign_born: 'total_foreign_born',\n",
    "                                    total_new_im :'total_new_im', total_im : 'total_im',\n",
    "                                          'zip code tabulation area':'zip'})"
   ]
  }
 ],
 "metadata": {
  "kernelspec": {
   "display_name": "Python 3",
   "language": "python",
   "name": "python3"
  },
  "language_info": {
   "codemirror_mode": {
    "name": "ipython",
    "version": 3
   },
   "file_extension": ".py",
   "mimetype": "text/x-python",
   "name": "python",
   "nbconvert_exporter": "python",
   "pygments_lexer": "ipython3",
   "version": "3.7.1"
  }
 },
 "nbformat": 4,
 "nbformat_minor": 2
}
